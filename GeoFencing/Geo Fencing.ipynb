{
 "cells": [
  {
   "cell_type": "code",
   "execution_count": 1,
   "metadata": {},
   "outputs": [],
   "source": [
    "%load_ext autoreload\n",
    "%autoreload 2\n",
    "import pandas as pd\n",
    "import numpy as np\n",
    "import matplotlib.pyplot as plt\n",
    "import os,googlemaps,json,ast,boto3,sqlalchemy,pytz\n",
    "from datetime import datetime\n",
    "\n",
    "from termcolor import colored\n",
    "from ast import literal_eval\n",
    "import seaborn as sns\n",
    "from IPython.core.display import display, HTML\n",
    "display(HTML(\"<style>.container { width:80% !important; }</style>\"))\n",
    "\n",
    "from carvi import jay"
   ]
  },
  {
   "cell_type": "code",
   "execution_count": 4,
   "metadata": {},
   "outputs": [
    {
     "data": {
      "text/html": [
       "<div>\n",
       "<style scoped>\n",
       "    .dataframe tbody tr th:only-of-type {\n",
       "        vertical-align: middle;\n",
       "    }\n",
       "\n",
       "    .dataframe tbody tr th {\n",
       "        vertical-align: top;\n",
       "    }\n",
       "\n",
       "    .dataframe thead th {\n",
       "        text-align: right;\n",
       "    }\n",
       "</style>\n",
       "<table border=\"1\" class=\"dataframe\">\n",
       "  <thead>\n",
       "    <tr style=\"text-align: right;\">\n",
       "      <th></th>\n",
       "      <th>camera_id</th>\n",
       "      <th>trip_start</th>\n",
       "      <th>total_distance</th>\n",
       "      <th>location</th>\n",
       "    </tr>\n",
       "  </thead>\n",
       "  <tbody>\n",
       "    <tr>\n",
       "      <th>0</th>\n",
       "      <td>861107036063171</td>\n",
       "      <td>2018-11-23 05:07:35.120</td>\n",
       "      <td>92.042</td>\n",
       "      <td>41.5121,-90.5732</td>\n",
       "    </tr>\n",
       "    <tr>\n",
       "      <th>1</th>\n",
       "      <td>861107036111616</td>\n",
       "      <td>2018-11-23 05:12:17.097</td>\n",
       "      <td>53.684</td>\n",
       "      <td>41.5081,-90.5186</td>\n",
       "    </tr>\n",
       "    <tr>\n",
       "      <th>2</th>\n",
       "      <td>861107036108653</td>\n",
       "      <td>2018-11-23 09:02:11.838</td>\n",
       "      <td>156.885</td>\n",
       "      <td>41.5101,-90.5123</td>\n",
       "    </tr>\n",
       "    <tr>\n",
       "      <th>3</th>\n",
       "      <td>861107036059112</td>\n",
       "      <td>2018-11-24 07:08:24.292</td>\n",
       "      <td>137.604</td>\n",
       "      <td>41.5548,-90.4097</td>\n",
       "    </tr>\n",
       "    <tr>\n",
       "      <th>4</th>\n",
       "      <td>861107036111616</td>\n",
       "      <td>2018-11-24 07:41:01.510</td>\n",
       "      <td>140.828</td>\n",
       "      <td>41.5083,-90.5179</td>\n",
       "    </tr>\n",
       "    <tr>\n",
       "      <th>5</th>\n",
       "      <td>861107036077593</td>\n",
       "      <td>2018-11-24 08:34:35.807</td>\n",
       "      <td>295.415</td>\n",
       "      <td>41.5546,-90.4100</td>\n",
       "    </tr>\n",
       "    <tr>\n",
       "      <th>6</th>\n",
       "      <td>861107036037902</td>\n",
       "      <td>2018-11-24 08:44:55.720</td>\n",
       "      <td>25.373</td>\n",
       "      <td>41.5122,-90.5757</td>\n",
       "    </tr>\n",
       "    <tr>\n",
       "      <th>7</th>\n",
       "      <td>861107036063171</td>\n",
       "      <td>2018-11-24 09:21:32.703</td>\n",
       "      <td>27.049</td>\n",
       "      <td>41.5112,-90.5724</td>\n",
       "    </tr>\n",
       "    <tr>\n",
       "      <th>8</th>\n",
       "      <td>861107036037902</td>\n",
       "      <td>2018-11-24 09:55:08.724</td>\n",
       "      <td>5.716</td>\n",
       "      <td>41.4641,-90.5105</td>\n",
       "    </tr>\n",
       "    <tr>\n",
       "      <th>9</th>\n",
       "      <td>861107036108653</td>\n",
       "      <td>2018-11-24 12:58:18.710</td>\n",
       "      <td>27.953</td>\n",
       "      <td>41.5087,-90.5163</td>\n",
       "    </tr>\n",
       "  </tbody>\n",
       "</table>\n",
       "</div>"
      ],
      "text/plain": [
       "         camera_id               trip_start  total_distance          location\n",
       "0  861107036063171  2018-11-23 05:07:35.120          92.042  41.5121,-90.5732\n",
       "1  861107036111616  2018-11-23 05:12:17.097          53.684  41.5081,-90.5186\n",
       "2  861107036108653  2018-11-23 09:02:11.838         156.885  41.5101,-90.5123\n",
       "3  861107036059112  2018-11-24 07:08:24.292         137.604  41.5548,-90.4097\n",
       "4  861107036111616  2018-11-24 07:41:01.510         140.828  41.5083,-90.5179\n",
       "5  861107036077593  2018-11-24 08:34:35.807         295.415  41.5546,-90.4100\n",
       "6  861107036037902  2018-11-24 08:44:55.720          25.373  41.5122,-90.5757\n",
       "7  861107036063171  2018-11-24 09:21:32.703          27.049  41.5112,-90.5724\n",
       "8  861107036037902  2018-11-24 09:55:08.724           5.716  41.4641,-90.5105\n",
       "9  861107036108653  2018-11-24 12:58:18.710          27.953  41.5087,-90.5163"
      ]
     },
     "execution_count": 4,
     "metadata": {},
     "output_type": "execute_result"
    }
   ],
   "source": [
    "trip_date = '2018-11-23'\n",
    "\n",
    "qc_list = jay.qc_trip_list(trip_date)\n",
    "qc_list.head(10)"
   ]
  },
  {
   "cell_type": "code",
   "execution_count": 9,
   "metadata": {},
   "outputs": [
    {
     "name": "stdout",
     "output_type": "stream",
     "text": [
      "\u001b[1m\u001b[34mFirmware Version\u001b[0m \u001b[31mCV150S-C1_1.2.0\u001b[0m\n",
      "\n",
      "\u001b[1m\u001b[32mTrip Start\u001b[0m \u001b[1m\u001b[32mwith\u001b[0m \u001b[1m\u001b[31mCarVi Activated\u001b[0m\n",
      "\u001b[1m\u001b[34mLocal Trip Start\u001b[0m : \u001b[1m\u001b[31mAmerica/Chicago\u001b[0m \u001b[31m2018-11-24 08:34:35.807\u001b[0m\n",
      "\u001b[1m\u001b[34mawsS3 Trip Start\u001b[0m : \u001b[1m\u001b[31mUTC\t\t\u001b[0m \u001b[31m2018-11-24 14:34:35.807000\u001b[0m\n",
      "\n",
      "\u001b[1m\u001b[32mTrip End\u001b[0m \u001b[1m\u001b[32mwith\u001b[0m \u001b[1m\u001b[31mnormal\u001b[0m\n",
      "\u001b[1m\u001b[34mLocal Trip End\u001b[0m : \u001b[1m\u001b[31mAmerica/Chicago\u001b[0m \u001b[31m2018-11-24 19:02:09.082\u001b[0m\n",
      "\u001b[1m\u001b[34mawsS3 Trip End\u001b[0m : \u001b[1m\u001b[31mUTC\t\t\u001b[0m \u001b[31m2018-11-25 01:02:09.082000\u001b[0m\n",
      "\u001b[1m\u001b[34m\n",
      "Data Shape :\u001b[0m \u001b[31m(37583, 44)\u001b[0m\n",
      "\u001b[1m\u001b[34mTrip Distance:\u001b[0m \u001b[31m295.415\u001b[0m \u001b[31mkm\u001b[0m\n",
      "\u001b[1m\u001b[34mTrip Duration:\u001b[0m \u001b[31m10 Hours 27 Minutes 33 Seconds\u001b[0m\n"
     ]
    },
    {
     "data": {
      "application/vnd.jupyter.widget-view+json": {
       "model_id": "a1d906278ffb4be7a265e68bc5bed010",
       "version_major": 2,
       "version_minor": 0
      },
      "text/plain": [
       "Figure(layout=FigureLayout(height='420px'))"
      ]
     },
     "metadata": {},
     "output_type": "display_data"
    }
   ],
   "source": [
    "df_redshift = jay.redshift_data(imei, trip_start)\n",
    "jay.trip_info(df_redshift)"
   ]
  },
  {
   "cell_type": "code",
   "execution_count": 10,
   "metadata": {},
   "outputs": [],
   "source": [
    "def sample_geo(df):\n",
    "    \n",
    "    '''\n",
    "    This function takes a parameter of a one-trip-dataframe\n",
    "        : in this script, one-trip data is assigned to 'df_redshift'\n",
    "    This function prints the information \n",
    "        that explains a polygon area and how long the device was staying in the area \n",
    "    This function outputs a dictionary that consists of {'polygon area':['latitude', 'longitude']}\n",
    "    This function implements as follow:\n",
    "        >> sample_geo(df_redshift)\n",
    "    '''\n",
    "    \n",
    "    garage_zone = [(41.509881, -90.540517),(41.507322, -90.540270),(41.507338, -90.536944),(41.509897, -90.537213)]\n",
    "    centre_station = [(41.507538, -90.522281),(41.505718, -90.521144),(41.507309, -90.517099),(41.508602, -90.518194)]\n",
    "    seventh_st = [(41.470531, -90.528824),(41.470499, -90.527773),(41.498171, -90.527494),(41.498284, -90.528116)]\n",
    "    gas_station = [(41.492974, -90.536377),(41.493472, -90.536361),(41.493458, -90.535827),(41.493026, -90.535848)]\n",
    "\n",
    "    garage = Polygon(garage_zone)\n",
    "    centre = Polygon(centre_station)\n",
    "    sevent = Polygon(seventh_st)\n",
    "    statio = Polygon(gas_station)\n",
    "\n",
    "    gar_cnt = 0\n",
    "    cen_cnt = 0\n",
    "    sev_cnt = 0\n",
    "    gas_cnt = 0\n",
    "    \n",
    "    gar_lst = []\n",
    "    cen_lst = []\n",
    "    sev_lst = []\n",
    "    gas_lst = []\n",
    "    \n",
    "    for loc in df.location:\n",
    "        if loc != '0.0000,0.0000':\n",
    "            x = float(loc.split(',')[0])\n",
    "            y = float(loc.split(',')[1])\n",
    "            point = Point(x, y)\n",
    "        \n",
    "            if garage.contains(point) == True:\n",
    "                gar_cnt += 1\n",
    "                gar_lst.append(loc)\n",
    "            elif centre.contains(point) == True:\n",
    "                cen_cnt += 1\n",
    "                cen_lst.append(loc)\n",
    "            elif sevent.contains(point) == True:\n",
    "                sev_cnt += 1\n",
    "                sev_lst.append(loc)\n",
    "            elif statio.contains(point) == True:\n",
    "                gas_cnt += 1\n",
    "                gas_lst.append(loc)\n",
    "\n",
    "    geo_key = {}\n",
    "    geo_key['garage'] = gar_lst\n",
    "    geo_key['centre'] = cen_lst\n",
    "    geo_key['sevent'] = sev_lst\n",
    "    geo_key['statio'] = gas_lst\n",
    "    \n",
    "    print(colored(\"Metro Garage\",\"blue\",attrs = ['bold']), colored(gar_cnt,\"red\"), \"seconds\",\n",
    "          colored(\"\\nCentre Station\", \"blue\",attrs = ['bold']), colored(cen_cnt,\"red\"), \"seconds\",\n",
    "          colored(\"\\nSeventh St\",\"blue\",attrs = ['bold']),colored(sev_cnt,\"red\"), \"seconds\",\n",
    "          colored(\"\\nGas Station\",\"blue\",attrs = ['bold']),colored(gas_cnt,\"red\"), \"seconds\")\n",
    "    \n",
    "    return geo_key\n",
    "          "
   ]
  },
  {
   "cell_type": "code",
   "execution_count": 11,
   "metadata": {},
   "outputs": [
    {
     "name": "stdout",
     "output_type": "stream",
     "text": [
      "\u001b[1m\u001b[34mMetro Garage\u001b[0m \u001b[31m615\u001b[0m seconds \u001b[1m\u001b[34m\n",
      "Centre Station\u001b[0m \u001b[31m734\u001b[0m seconds \u001b[1m\u001b[34m\n",
      "Seventh St\u001b[0m \u001b[31m0\u001b[0m seconds \u001b[1m\u001b[34m\n",
      "Gas Station\u001b[0m \u001b[31m0\u001b[0m seconds\n"
     ]
    }
   ],
   "source": [
    "geo_key = sample_geo(df_redshift)"
   ]
  },
  {
   "cell_type": "code",
   "execution_count": 12,
   "metadata": {},
   "outputs": [],
   "source": [
    "def map_geofence(df, zone):\n",
    "    \n",
    "    '''\n",
    "    This function takes parameters of a data-frame and a polygona area\n",
    "    This function outputs a google map \n",
    "        that shows a geo-fenced polygon area and a plot of latitude and longitude\n",
    "    This function implements as follow:\n",
    "        >> map_geofence(geo_key['garage'], garage_zone)\n",
    "    '''\n",
    "    \n",
    "    location_lst = [tuple(ast.literal_eval(loc)) for loc in df]\n",
    "    cnt_lst = []\n",
    "\n",
    "    for i in location_lst:\n",
    "        cnt_lst.append(1)\n",
    "\n",
    "    new_loc = pd.DataFrame({'location':location_lst,'cnt':cnt_lst})\n",
    "    #########################################\n",
    "    polygon = Polygon(zone)\n",
    "    geo_lst = []\n",
    "    for i in df:\n",
    "        x = float(i.split(',')[0])\n",
    "        y = float(i.split(',')[1])\n",
    "\n",
    "        point = Point(x, y)\n",
    "        if polygon.contains(point) == True:\n",
    "            geo_lst.append(i)\n",
    "    \n",
    "    print(\"total trip\", len(df), \"seconds\")\n",
    "    print(\"Trip in GeoFencing area\",len(geo_lst), \"seconds\")\n",
    "    \n",
    "    mean = int(round(len(zone)/2,0))\n",
    "    center = zone[mean]\n",
    "    \n",
    "    fig = gmaps.figure(center=center, zoom_level=16)\n",
    "    polygon = gmaps.Polygon(zone, stroke_color = 'blue', fill_color='blue')\n",
    "    drawing = gmaps.drawing_layer(features = [gmaps.Polygon(\n",
    "        zone, stroke_color='blue', fill_color=(255, 0, 132))])\n",
    "    fig.add_layer(drawing)\n",
    "    fig.add_layer(gmaps.heatmap_layer(new_loc.location, weights = new_loc['cnt'],\n",
    "                                      max_intensity = 1, point_radius = 5, opacity = 0.7))\n",
    "    \n",
    "    return fig"
   ]
  },
  {
   "cell_type": "code",
   "execution_count": 13,
   "metadata": {},
   "outputs": [
    {
     "data": {
      "text/plain": [
       "dict_keys(['garage', 'centre', 'sevent', 'statio'])"
      ]
     },
     "execution_count": 13,
     "metadata": {},
     "output_type": "execute_result"
    }
   ],
   "source": [
    "geo_key.keys()"
   ]
  },
  {
   "cell_type": "markdown",
   "metadata": {},
   "source": [
    "## Set the Polygon Area where you want to geo-fence for\n",
    "\n",
    "#### To set the Polygon Area, you need at least three geographcial coordinates\n",
    "    \n",
    "    i.e., three geographical coordinates forms a triangle\n",
    "          four geographical coordinates forms a quadrangle, etc.\n",
    "\n",
    "#### In this script, the polygon areas are created with four-coorditates\n"
   ]
  },
  {
   "cell_type": "code",
   "execution_count": 14,
   "metadata": {},
   "outputs": [],
   "source": [
    "garage_zone = [(41.509881, -90.540517),(41.507322, -90.540270),(41.507338, -90.536944),(41.509897, -90.537213)]\n",
    "centre_station = [(41.507538, -90.522281),(41.505718, -90.521144),(41.507309, -90.517099),(41.508602, -90.518194)]\n",
    "seventh_st = [(41.470531, -90.528824),(41.470499, -90.527773),(41.498171, -90.527494),(41.498284, -90.528116)]\n",
    "gas_station = [(41.492974, -90.536377),(41.493472, -90.536361),(41.493458, -90.535827),(41.493026, -90.535848)]\n"
   ]
  },
  {
   "cell_type": "markdown",
   "metadata": {},
   "source": [
    "# Geo Fencing Example 1\n",
    "\n",
    "### : *A Geo Fenced Quad City's Garage Area*"
   ]
  },
  {
   "cell_type": "code",
   "execution_count": 15,
   "metadata": {},
   "outputs": [
    {
     "name": "stdout",
     "output_type": "stream",
     "text": [
      "total trip 615 seconds\n",
      "Trip in GeoFencing area 615 seconds\n"
     ]
    },
    {
     "data": {
      "application/vnd.jupyter.widget-view+json": {
       "model_id": "1577dac9cc54413cb2542f202fb6de91",
       "version_major": 2,
       "version_minor": 0
      },
      "text/plain": [
       "Figure(layout=FigureLayout(height='420px'))"
      ]
     },
     "metadata": {},
     "output_type": "display_data"
    }
   ],
   "source": [
    "map_geofence(geo_key['garage'], garage_zone)"
   ]
  },
  {
   "cell_type": "markdown",
   "metadata": {},
   "source": [
    "# Geo Fencing Example 2\n",
    "\n",
    "### : *A Geo Fenced Bus Transit Station*"
   ]
  },
  {
   "cell_type": "code",
   "execution_count": 16,
   "metadata": {},
   "outputs": [
    {
     "name": "stdout",
     "output_type": "stream",
     "text": [
      "total trip 734 seconds\n",
      "Trip in GeoFencing area 734 seconds\n"
     ]
    },
    {
     "data": {
      "application/vnd.jupyter.widget-view+json": {
       "model_id": "1f931accb0944700a10ca7a4e325cd6c",
       "version_major": 2,
       "version_minor": 0
      },
      "text/plain": [
       "Figure(layout=FigureLayout(height='420px'))"
      ]
     },
     "metadata": {},
     "output_type": "display_data"
    }
   ],
   "source": [
    "map_geofence(geo_key['centre'], centre_station)"
   ]
  },
  {
   "cell_type": "markdown",
   "metadata": {},
   "source": [
    "# Geo Fencing Example 3\n",
    "\n",
    "### : *Available to fence even whole street, i.e., 7th street*"
   ]
  },
  {
   "cell_type": "code",
   "execution_count": 17,
   "metadata": {},
   "outputs": [],
   "source": [
    "#map_geofence(geo_key['sevent'], seventh_st)"
   ]
  },
  {
   "cell_type": "markdown",
   "metadata": {},
   "source": [
    "# Geo Fencing Example 4\n",
    "\n",
    "### : *A Geo Fenced Gas Station where the Bus is filled the fuel at*"
   ]
  },
  {
   "cell_type": "code",
   "execution_count": 18,
   "metadata": {},
   "outputs": [],
   "source": [
    "#map_geofence(geo_key['statio'], gas_station)"
   ]
  },
  {
   "cell_type": "code",
   "execution_count": null,
   "metadata": {},
   "outputs": [],
   "source": []
  }
 ],
 "metadata": {
  "kernelspec": {
   "display_name": "Python 3",
   "language": "python",
   "name": "python3"
  },
  "language_info": {
   "codemirror_mode": {
    "name": "ipython",
    "version": 3
   },
   "file_extension": ".py",
   "mimetype": "text/x-python",
   "name": "python",
   "nbconvert_exporter": "python",
   "pygments_lexer": "ipython3",
   "version": "3.6.4"
  }
 },
 "nbformat": 4,
 "nbformat_minor": 2
}
