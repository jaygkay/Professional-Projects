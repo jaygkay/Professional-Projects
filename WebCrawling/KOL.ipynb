{
 "cells": [
  {
   "cell_type": "code",
   "execution_count": 1,
   "metadata": {},
   "outputs": [],
   "source": [
    "from bs4 import BeautifulSoup\n",
    "import requests, re\n",
    "import pandas as pd\n",
    "import warnings \n",
    "warnings.filterwarnings('ignore')"
   ]
  },
  {
   "cell_type": "code",
   "execution_count": 2,
   "metadata": {},
   "outputs": [],
   "source": [
    "hospital = \"서울대학교병원\"\n",
    "doctor = \"송영욱\"\n",
    "query = hospital + '+' + doctor\n",
    "s_date = \"2019.08.01\"\n",
    "e_date = \"2019.09.01\"\n",
    "s_from = s_date.replace(\",\",\"\")\n",
    "e_to = e_date.replace(\".\",\"\")\n",
    "maxpage = 1"
   ]
  },
  {
   "cell_type": "code",
   "execution_count": 3,
   "metadata": {},
   "outputs": [],
   "source": [
    "def text_app(phara):\n",
    "    for item in phara:\n",
    "        text = str(item.find_all(text = True))\n",
    "        clean = re.sub('[a-zA-Z]','',text)\n",
    "        clean = re.sub('[^가-힝0-9a-zA-Z\\\\s]','',clean)\n",
    "        text_lst.append(clean)\n",
    "        \n",
    "def cont_app(contents):\n",
    "    for cont in contents:\n",
    "        first = re.sub('<dl>.*?</a> </div> </dd> <dd', '', str(cont)).strip()\n",
    "        second = re.sub('<ul class = \"relation_lst\">.*?</dd>','',first).strip()\n",
    "        third = re.sub('<.+?>','',second).strip()\n",
    "    return third"
   ]
  },
  {
   "cell_type": "code",
   "execution_count": 4,
   "metadata": {},
   "outputs": [
    {
     "data": {
      "text/plain": [
       "'https://search.naver.com/search.naver?where=news&query=서울대학교병원+송영욱&sort=1&ds=2019.08.01&de=2019.09.01&nso=so%3Ar%2Cp%3Afrom2019.08.01to20190901%2Ca%3A&start=1'"
      ]
     },
     "execution_count": 4,
     "metadata": {},
     "output_type": "execute_result"
    }
   ],
   "source": [
    "page = 1\n",
    "maxpage_t = (int(maxpage)-1) * 10 + 1\n",
    "\n",
    "url = \"https://search.naver.com/search.naver?where=news&query=\"\\\n",
    "    + query + \"&sort=1&ds=\" + s_date + \"&de=\" + e_date \\\n",
    "    + \"&nso=so%3Ar%2Cp%3Afrom\" + s_from + \"to\" + e_to \\\n",
    "    + \"%2Ca%3A&start=\" + str(page)\n",
    "url"
   ]
  },
  {
   "cell_type": "code",
   "execution_count": 5,
   "metadata": {
    "scrolled": false
   },
   "outputs": [
    {
     "name": "stderr",
     "output_type": "stream",
     "text": [
      "Some characters could not be decoded, and were replaced with REPLACEMENT CHARACTER.\n"
     ]
    },
    {
     "data": {
      "text/html": [
       "<div>\n",
       "<style scoped>\n",
       "    .dataframe tbody tr th:only-of-type {\n",
       "        vertical-align: middle;\n",
       "    }\n",
       "\n",
       "    .dataframe tbody tr th {\n",
       "        vertical-align: top;\n",
       "    }\n",
       "\n",
       "    .dataframe thead th {\n",
       "        text-align: right;\n",
       "    }\n",
       "</style>\n",
       "<table border=\"1\" class=\"dataframe\">\n",
       "  <thead>\n",
       "    <tr style=\"text-align: right;\">\n",
       "      <th></th>\n",
       "      <th>date</th>\n",
       "      <th>title</th>\n",
       "      <th>press</th>\n",
       "      <th>preview</th>\n",
       "      <th>content</th>\n",
       "      <th>link</th>\n",
       "    </tr>\n",
       "  </thead>\n",
       "  <tbody>\n",
       "    <tr>\n",
       "      <th>0</th>\n",
       "      <td>2019</td>\n",
       "      <td>릴리, ‘올루미언트’ 유용성 확인한 심포지엄 성료</td>\n",
       "      <td>약업신문</td>\n",
       "      <td>&gt;심포지엄은 서울대병원 류마티스내과 송영욱 교수가 좌장을 맡아 주도했으며, 최신 류...</td>\n",
       "      <td>차단</td>\n",
       "      <td>http://www.yakup.com/news/index.html?mode=view...</td>\n",
       "    </tr>\n",
       "    <tr>\n",
       "      <th>1</th>\n",
       "      <td>2019</td>\n",
       "      <td>한국릴리, 경구용 류마티스관절염치료제 ‘올루미언트’ 심포지엄 성료</td>\n",
       "      <td>메디컬투데이</td>\n",
       "      <td>&gt;이번 심포지엄은 서울대병원 류마티스내과 송영욱 교수가 좌장을 맡아 주도했으며, 최...</td>\n",
       "      <td>차단</td>\n",
       "      <td>http://www.mdtoday.co.kr/mdtoday/index.html?no...</td>\n",
       "    </tr>\n",
       "    <tr>\n",
       "      <th>2</th>\n",
       "      <td>2019</td>\n",
       "      <td>[사제인사] 서울대교구</td>\n",
       "      <td>가톨릭신문</td>\n",
       "      <td>&gt;병원사목위원회 서울대학교병원 원목부실장) ▲중계동 부주임 박태민(정릉4동 보좌) ...</td>\n",
       "      <td>차단</td>\n",
       "      <td>https://www.catholictimes.org/article/article_...</td>\n",
       "    </tr>\n",
       "    <tr>\n",
       "      <th>3</th>\n",
       "      <td>2018</td>\n",
       "      <td>아모레퍼시픽, 피부세포 항노화 물질 연구 국제학술지 게재</td>\n",
       "      <td>천지일보</td>\n",
       "      <td>&gt;아모레퍼시픽 기술연구원 길인섭 수석연구원과 서울대학교 병원 내분비내과 송영욱 교수...</td>\n",
       "      <td>아모레퍼시픽 기술연구원 미지움 제공 아모레퍼시픽    천지일보김예슬 기자 아모...</td>\n",
       "      <td>http://www.newscj.com/news/articleView.html?id...</td>\n",
       "    </tr>\n",
       "    <tr>\n",
       "      <th>4</th>\n",
       "      <td>2018</td>\n",
       "      <td>아모레퍼시픽, 피부 항노화 물질 연구 국제학술지 게재</td>\n",
       "      <td>이뉴스투데이</td>\n",
       "      <td>&gt;길인섭 아모레퍼시픽 기술연구원 수석연구원과 송영욱 서울대학교 병원 내분비내과 교수...</td>\n",
       "      <td>사진제공아모레퍼시픽 이뉴스투데이 이하영 기자 아모레퍼시픽 기술연구원이 서울대학교 ...</td>\n",
       "      <td>http://www.enewstoday.co.kr/news/articleView.h...</td>\n",
       "    </tr>\n",
       "    <tr>\n",
       "      <th>5</th>\n",
       "      <td>2018</td>\n",
       "      <td>아모레퍼시픽, 피부세포 항노화 물질 연구 국제학술지 게재</td>\n",
       "      <td>소비자가 만드는 신문</td>\n",
       "      <td>&gt;아모레퍼시픽 기술연구원 길인섭 수석연구원과 서울대학교 병원 내분비내과 송영욱 교수...</td>\n",
       "      <td>아모레퍼시픽은 아모레퍼시픽 기술연구원이 서울대학교 병원과 공동 연구를 통해 세포 내...</td>\n",
       "      <td>http://www.consumernews.co.kr/?mod=news&amp;act=ar...</td>\n",
       "    </tr>\n",
       "    <tr>\n",
       "      <th>6</th>\n",
       "      <td>2018</td>\n",
       "      <td>아모레퍼시픽, 피부세포 항노화 물질 연구 국제학술지 게재</td>\n",
       "      <td>비즈트리뷴</td>\n",
       "      <td>&gt;아모레퍼시픽 기술연구원 길인섭 수석연구원과 서울대학교 병원 내분비내과 송영욱 교수...</td>\n",
       "      <td>차단</td>\n",
       "      <td>http://biztribune.co.kr/news/view.php?no=88972</td>\n",
       "    </tr>\n",
       "    <tr>\n",
       "      <th>7</th>\n",
       "      <td>2018</td>\n",
       "      <td>아모레퍼시픽, 업계 최초 피부 세포 노화 억제 효능 입증</td>\n",
       "      <td>데일리한국</td>\n",
       "      <td>&gt;아모레퍼시픽 기술연구원 길인섭 수석연구원과 서울대학교 병원 내분비내과 송영욱 교수...</td>\n",
       "      <td>경기도 용인시에 위치한 아모레퍼시픽 기술연구원   데일리한국 동효정...</td>\n",
       "      <td>http://daily.hankooki.com/lpage/industry/20181...</td>\n",
       "    </tr>\n",
       "    <tr>\n",
       "      <th>8</th>\n",
       "      <td>2018</td>\n",
       "      <td>아모레퍼시픽, 피부세포 항노화 물질 연구 국제학술지 게재</td>\n",
       "      <td>CNB저널</td>\n",
       "      <td>&gt;길인섭 아모레퍼시픽 기술연구원 수석연구원과 서울대학교 병원 내분비내과 송영욱 교수...</td>\n",
       "      <td>차단</td>\n",
       "      <td>http://weekly.cnbnews.com/news/article.html?no...</td>\n",
       "    </tr>\n",
       "    <tr>\n",
       "      <th>9</th>\n",
       "      <td>2018</td>\n",
       "      <td>아모레퍼시픽, 피부세포 항노화 물질 연구 활발</td>\n",
       "      <td>일간투데이</td>\n",
       "      <td>&gt;아모레퍼시픽 기술연구원 길인섭 수석연구원과 서울대학교 병원 내분비내과 송영욱 교수...</td>\n",
       "      <td>0   0     아모레퍼시픽 기술연구원 전경 사진아모레퍼시픽    일간투데...</td>\n",
       "      <td>http://www.dtoday.co.kr/news/articleView.html?...</td>\n",
       "    </tr>\n",
       "  </tbody>\n",
       "</table>\n",
       "</div>"
      ],
      "text/plain": [
       "   date                                 title        press  \\\n",
       "0  2019           릴리, ‘올루미언트’ 유용성 확인한 심포지엄 성료         약업신문   \n",
       "1  2019  한국릴리, 경구용 류마티스관절염치료제 ‘올루미언트’ 심포지엄 성료       메디컬투데이   \n",
       "2  2019                          [사제인사] 서울대교구        가톨릭신문   \n",
       "3  2018       아모레퍼시픽, 피부세포 항노화 물질 연구 국제학술지 게재         천지일보   \n",
       "4  2018         아모레퍼시픽, 피부 항노화 물질 연구 국제학술지 게재       이뉴스투데이   \n",
       "5  2018       아모레퍼시픽, 피부세포 항노화 물질 연구 국제학술지 게재  소비자가 만드는 신문   \n",
       "6  2018       아모레퍼시픽, 피부세포 항노화 물질 연구 국제학술지 게재        비즈트리뷴   \n",
       "7  2018       아모레퍼시픽, 업계 최초 피부 세포 노화 억제 효능 입증        데일리한국   \n",
       "8  2018       아모레퍼시픽, 피부세포 항노화 물질 연구 국제학술지 게재        CNB저널   \n",
       "9  2018             아모레퍼시픽, 피부세포 항노화 물질 연구 활발        일간투데이   \n",
       "\n",
       "                                             preview  \\\n",
       "0  >심포지엄은 서울대병원 류마티스내과 송영욱 교수가 좌장을 맡아 주도했으며, 최신 류...   \n",
       "1  >이번 심포지엄은 서울대병원 류마티스내과 송영욱 교수가 좌장을 맡아 주도했으며, 최...   \n",
       "2  >병원사목위원회 서울대학교병원 원목부실장) ▲중계동 부주임 박태민(정릉4동 보좌) ...   \n",
       "3  >아모레퍼시픽 기술연구원 길인섭 수석연구원과 서울대학교 병원 내분비내과 송영욱 교수...   \n",
       "4  >길인섭 아모레퍼시픽 기술연구원 수석연구원과 송영욱 서울대학교 병원 내분비내과 교수...   \n",
       "5  >아모레퍼시픽 기술연구원 길인섭 수석연구원과 서울대학교 병원 내분비내과 송영욱 교수...   \n",
       "6  >아모레퍼시픽 기술연구원 길인섭 수석연구원과 서울대학교 병원 내분비내과 송영욱 교수...   \n",
       "7  >아모레퍼시픽 기술연구원 길인섭 수석연구원과 서울대학교 병원 내분비내과 송영욱 교수...   \n",
       "8  >길인섭 아모레퍼시픽 기술연구원 수석연구원과 서울대학교 병원 내분비내과 송영욱 교수...   \n",
       "9  >아모레퍼시픽 기술연구원 길인섭 수석연구원과 서울대학교 병원 내분비내과 송영욱 교수...   \n",
       "\n",
       "                                             content  \\\n",
       "0                                                 차단   \n",
       "1                                                 차단   \n",
       "2                                                 차단   \n",
       "3     아모레퍼시픽 기술연구원 미지움 제공 아모레퍼시픽    천지일보김예슬 기자 아모...   \n",
       "4   사진제공아모레퍼시픽 이뉴스투데이 이하영 기자 아모레퍼시픽 기술연구원이 서울대학교 ...   \n",
       "5  아모레퍼시픽은 아모레퍼시픽 기술연구원이 서울대학교 병원과 공동 연구를 통해 세포 내...   \n",
       "6                                                 차단   \n",
       "7           경기도 용인시에 위치한 아모레퍼시픽 기술연구원   데일리한국 동효정...   \n",
       "8                                                 차단   \n",
       "9      0   0     아모레퍼시픽 기술연구원 전경 사진아모레퍼시픽    일간투데...   \n",
       "\n",
       "                                                link  \n",
       "0  http://www.yakup.com/news/index.html?mode=view...  \n",
       "1  http://www.mdtoday.co.kr/mdtoday/index.html?no...  \n",
       "2  https://www.catholictimes.org/article/article_...  \n",
       "3  http://www.newscj.com/news/articleView.html?id...  \n",
       "4  http://www.enewstoday.co.kr/news/articleView.h...  \n",
       "5  http://www.consumernews.co.kr/?mod=news&act=ar...  \n",
       "6     http://biztribune.co.kr/news/view.php?no=88972  \n",
       "7  http://daily.hankooki.com/lpage/industry/20181...  \n",
       "8  http://weekly.cnbnews.com/news/article.html?no...  \n",
       "9  http://www.dtoday.co.kr/news/articleView.html?...  "
      ]
     },
     "execution_count": 5,
     "metadata": {},
     "output_type": "execute_result"
    }
   ],
   "source": [
    "title_lst = []\n",
    "link_lst = []\n",
    "news_lst = []\n",
    "date_lst = []\n",
    "cont_lst = []\n",
    "text_lst = []\n",
    "\n",
    "while page <= maxpage_t:\n",
    "    response = requests.get(url)\n",
    "    html = response.text\n",
    "\n",
    "    #BeautifulSoup 인자값으로 변환\n",
    "    soup = BeautifulSoup(html, 'html.parser')\n",
    "    #<a> 태그에서 제목과 링크 주소 추출\n",
    "    atags = soup.select('._sp_each_title')\n",
    "    \n",
    "#     제목 & 링크주소\n",
    "    for atag in atags:\n",
    "        title_lst.append(atag.text)\n",
    "        link_lst.append(atag['href'])\n",
    "    \n",
    "    press_source = soup.select('._sp_each_source')\n",
    "    for press in press_source:\n",
    "        news_lst.append(press.text)\n",
    "        \n",
    "    date_soup = soup.select('.txt_inline')\n",
    "    for seg in date_soup:\n",
    "        state = seg.text\n",
    "        try:\n",
    "            pattern = '\\d+.(\\d+).(\\d+).'\n",
    "            re_comp = re.compile(pattern)\n",
    "            date = re_comp.search(state).groujp(0)\n",
    "            date_lst.append(date)\n",
    "        except AttributeError:\n",
    "            pattern = '\\w* (\\d\\w*)'\n",
    "            re_comp = re.compile(pattern)\n",
    "            date = re_comp.search(state).group(1)\n",
    "            date_lst.append(date)\n",
    "            \n",
    "    contents = soup.select('ul.type01 dl')\n",
    "    for cont in contents:\n",
    "        first = re.sub('<dl>.*?</a> </div> </dd> <dd', '', str(cont)).strip()\n",
    "        second = re.sub('<ul class = \"relation_lst\">.*?</dd>','',first).strip()\n",
    "        third = re.sub('<.+?>','',second).strip()\n",
    "        cont_lst.append(third)\n",
    "    page+=10\n",
    "    \n",
    "for i in link_lst:\n",
    "    resp = requests.get(i)\n",
    "    resp.raise_for_status()\n",
    "    resp.encoding = 'euc-kr'\n",
    "    htm = resp.content\n",
    "    sou = BeautifulSoup(htm,'html.parser')\n",
    "    phara = sou.find_all('div',{'itemprop':'articleBody'})\n",
    "    if len(phara) == 0:\n",
    "        phara = sou.find_all('div',{'id':'arl_view_content'})\n",
    "        if len(phara) == 0:\n",
    "#             phara = sou.find_all(\"div\",{'class':'bodyarea'})\n",
    "#             if len(phara) == 0:\n",
    "            text_lst.append('차단')\n",
    "        else:\n",
    "            text_app(phara)\n",
    "\n",
    "    else:\n",
    "        text_app(phara)\n",
    "\n",
    "result = {\n",
    "    \"date\":date_lst,\n",
    "    \"title\":title_lst,\n",
    "    \"press\":news_lst,\n",
    "    \"preview\":cont_lst,\n",
    "    \"content\":text_lst,\n",
    "    \"link\":link_lst\n",
    "}\n",
    "\n",
    "df = pd.DataFrame(result)\n",
    "df"
   ]
  },
  {
   "cell_type": "code",
   "execution_count": 6,
   "metadata": {},
   "outputs": [],
   "source": [
    "url1 = 'http://www.mdtoday.co.kr/mdtoday/index.html?no=350564'\n",
    "test1 = requests.get(url1)\n",
    "test1.raise_for_status()\n",
    "test1.encoding = 'euc-kr'\n",
    "bs1 = BeautifulSoup(test1.text,'html.parser', from_encoding = 'utf-8')"
   ]
  },
  {
   "cell_type": "code",
   "execution_count": 7,
   "metadata": {},
   "outputs": [
    {
     "data": {
      "text/plain": [
       "'한국릴리, 경구용 류마티스관절염치료제 ‘올루미언트’ 심포지엄 성료'"
      ]
     },
     "execution_count": 7,
     "metadata": {},
     "output_type": "execute_result"
    }
   ],
   "source": [
    "bs1.title.string"
   ]
  },
  {
   "cell_type": "code",
   "execution_count": 8,
   "metadata": {},
   "outputs": [
    {
     "data": {
      "text/plain": [
       "['한국릴리, 경구용 류마티스관절염치료제 ‘올루미언트’ 심포지엄 성료']"
      ]
     },
     "execution_count": 8,
     "metadata": {},
     "output_type": "execute_result"
    }
   ],
   "source": [
    "bs1.title(string = True)"
   ]
  },
  {
   "cell_type": "code",
   "execution_count": null,
   "metadata": {},
   "outputs": [],
   "source": []
  }
 ],
 "metadata": {
  "kernelspec": {
   "display_name": "Python 3",
   "language": "python",
   "name": "python3"
  },
  "language_info": {
   "codemirror_mode": {
    "name": "ipython",
    "version": 3
   },
   "file_extension": ".py",
   "mimetype": "text/x-python",
   "name": "python",
   "nbconvert_exporter": "python",
   "pygments_lexer": "ipython3",
   "version": "3.7.3"
  }
 },
 "nbformat": 4,
 "nbformat_minor": 2
}
